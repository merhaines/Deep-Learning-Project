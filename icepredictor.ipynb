{
  "nbformat": 4,
  "nbformat_minor": 0,
  "metadata": {
    "colab": {
      "provenance": [],
      "mount_file_id": "1ckgpeHzuLojvtnu2lh6X6MjYoNEkxaXs",
      "authorship_tag": "ABX9TyOAYEtnGGxkNm0jEXRBKVJ0",
      "include_colab_link": true
    },
    "kernelspec": {
      "name": "python3",
      "display_name": "Python 3"
    },
    "language_info": {
      "name": "python"
    }
  },
  "cells": [
    {
      "cell_type": "markdown",
      "metadata": {
        "id": "view-in-github",
        "colab_type": "text"
      },
      "source": [
        "<a href=\"https://colab.research.google.com/github/merhaines/Deep-Learning-Project/blob/main/icepredictor.ipynb\" target=\"_parent\"><img src=\"https://colab.research.google.com/assets/colab-badge.svg\" alt=\"Open In Colab\"/></a>"
      ]
    },
    {
      "cell_type": "markdown",
      "source": [
        "download data and stuff\n",
        "\n",
        "input = ice concentration data for each month for 3 years \n",
        "\n",
        "output = whether or not each pixel had ice 3 months later for 3 years\n",
        "\n",
        "data downloaded from https://nsidc.org/data/g10010/versions/2#anchor-1 "
      ],
      "metadata": {
        "id": "X4QFJTNldok2"
      }
    },
    {
      "cell_type": "code",
      "source": [
        "! pip install netcdf4"
      ],
      "metadata": {
        "colab": {
          "base_uri": "https://localhost:8080/"
        },
        "id": "Z4mspTgExLEt",
        "outputId": "30d4648a-c99c-48fa-cb61-7046cf9157ae"
      },
      "execution_count": 1,
      "outputs": [
        {
          "output_type": "stream",
          "name": "stdout",
          "text": [
            "Looking in indexes: https://pypi.org/simple, https://us-python.pkg.dev/colab-wheels/public/simple/\n",
            "Collecting netcdf4\n",
            "  Downloading netCDF4-1.6.3-cp39-cp39-manylinux_2_17_x86_64.manylinux2014_x86_64.whl (5.2 MB)\n",
            "\u001b[2K     \u001b[90m━━━━━━━━━━━━━━━━━━━━━━━━━━━━━━━━━━━━━━━━\u001b[0m \u001b[32m5.2/5.2 MB\u001b[0m \u001b[31m61.9 MB/s\u001b[0m eta \u001b[36m0:00:00\u001b[0m\n",
            "\u001b[?25hRequirement already satisfied: numpy in /usr/local/lib/python3.9/dist-packages (from netcdf4) (1.22.4)\n",
            "Collecting cftime\n",
            "  Downloading cftime-1.6.2-cp39-cp39-manylinux_2_17_x86_64.manylinux2014_x86_64.whl (1.3 MB)\n",
            "\u001b[2K     \u001b[90m━━━━━━━━━━━━━━━━━━━━━━━━━━━━━━━━━━━━━━━━\u001b[0m \u001b[32m1.3/1.3 MB\u001b[0m \u001b[31m10.0 MB/s\u001b[0m eta \u001b[36m0:00:00\u001b[0m\n",
            "\u001b[?25hInstalling collected packages: cftime, netcdf4\n",
            "Successfully installed cftime-1.6.2 netcdf4-1.6.3\n"
          ]
        }
      ]
    },
    {
      "cell_type": "code",
      "source": [
        "import netCDF4 as nc"
      ],
      "metadata": {
        "id": "R1N3Ymm1w4JC"
      },
      "execution_count": 2,
      "outputs": []
    },
    {
      "cell_type": "code",
      "source": [
        "fp = '/content/drive/MyDrive/sea ice predictor/G10010_SIBT1850_V2/G10010_sibt1850_v2.0.nc'\n",
        "ds = nc.Dataset(fp)"
      ],
      "metadata": {
        "id": "DhuTNDUNxqWO"
      },
      "execution_count": 3,
      "outputs": []
    },
    {
      "cell_type": "code",
      "source": [
        "# get information about dataset\n",
        "# print(ds.dimensions.values())\n",
        "# print(ds.variables.values())\n",
        "\n",
        "# monthly sea ice concentration data. Starts January 1st 1850 and goes until 2018\n",
        "# has concentration data for 168 years (2016 months), for each 240 x 1440 \"pixel\" of the Arctic\n",
        "siconc = ds['seaice_conc'] "
      ],
      "metadata": {
        "id": "o9KoL1IOx4nM"
      },
      "execution_count": 8,
      "outputs": []
    },
    {
      "cell_type": "code",
      "source": [
        "n_months_in_dataset = len(siconc[:])\n",
        "n_rows = len(siconc[1, :])\n",
        "n_cols = len(siconc[1, 1, :])\n",
        "forecast = 3; # 3 month forecast\n",
        "n_months_input = 3*12;\n",
        "\n",
        "X_input = siconc[(n_months_in_dataset - n_months_input - forecast):]\n",
        "Y_input = siconc[(n_months_in_dataset - n_months_input):]"
      ],
      "metadata": {
        "id": "BhomJMdoYCUt"
      },
      "execution_count": 12,
      "outputs": []
    }
  ]
}